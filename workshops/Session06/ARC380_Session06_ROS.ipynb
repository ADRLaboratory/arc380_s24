{
 "cells": [
  {
   "cell_type": "markdown",
   "metadata": {},
   "source": [
    "## ARC 380 / CEE 380 – Introduction to Robotics for Digital Fabrication\n",
    "## Session 4 Workshop\n",
    "Princeton University, Spring 2024\n",
    "\n",
    "Professor: Arash Adel | Assistant-in-Instruction: Daniel Ruan\n",
    "\n",
    "---"
   ]
  },
  {
   "cell_type": "markdown",
   "metadata": {},
   "source": [
    "# 1. Introduction to ROS\n",
    "\n",
    "Source: ROS Wiki (http://wiki.ros.org/)"
   ]
  },
  {
   "cell_type": "markdown",
   "metadata": {},
   "source": [
    "## 1.1. What is ROS?\n",
    "\n",
    "The Robot Operating System (ROS) is an open-source, flexible framework for writing robot software. \n",
    "\n",
    "Despite its name, ROS is not a conventional operating system; it is a collection of software frameworks for robot software development, providing services designed for a heterogeneous computer cluster such as hardware abstraction, low-level device control, implementation of commonly-used functionality, message-passing between processes, and package management."
   ]
  },
  {
   "cell_type": "markdown",
   "metadata": {},
   "source": [
    "### 1.1.1. Core Features\n",
    "\n",
    "- **Modularity**: ROS encourages a modular approach to robot software development by using packages and nodes, allowing for reusability and rapid development of software components.\n",
    "- **Tools and Libraries**: It offers numerous tools and libraries for obtaining, building, writing, and running code across various platforms.\n",
    "- **Client Library Support**: ROS supports multiple programming languages through its client libraries, including but not limited to Python (`rospy` or `roslibpy`), C++ (`ROSCpp`), and C# (`ROSSharp`).\n",
    "- **Ecosystem**: With a large community of developers, ROS offers a vast ecosystem of software packages for various robots, from simple mobile robots to complex industrial arms.\n",
    "- **Communication**: ROS includes a robust messaging system that supports multiple communication patterns including publish/subscribe, service/client, and actionlib (a way to execute long-running tasks with feedback)."
   ]
  },
  {
   "cell_type": "markdown",
   "metadata": {},
   "source": [
    "### 1.1.2. Releases\n",
    "\n",
    "The development of ROS began in 2007 by Willow Garage, a robotics research lab at Stanford University.\n",
    "\n",
    "Since then, there have been numerous distribution releases, with an alphabetical naming scheme loosely themed around turtles.\n",
    "\n",
    "The version of ROS that we will be using is ROS Noetic Ninjemys, the last release of ROS 1 in 2020.\n",
    "\n",
    "<img src=\"./images/noetic.png\" alt=\"ROS Noetic Ninjemys\" width=\"200\"/>"
   ]
  },
  {
   "cell_type": "markdown",
   "metadata": {},
   "source": [
    "### 1.1.3. ROS 1 vs. ROS 2\n",
    "\n",
    "Development for ROS 2 began in 2015 and utilizes a different software architecture to address new use cases in robotics that weren't natively supported by ROS 1. These applications include:\n",
    " - Teams of multiple robots\n",
    " - Small embedded platforms\n",
    " - Real-time systems\n",
    " - Non-ideal networks\n",
    " - Production environments\n",
    "\n",
    "We will be utilizing ROS 1 in this course because a lot of the software framework we will be using has not been updated yet for ROS 2 (although it should be done relatively soon!). However, most all of the concepts you will be learning will be directly applicable to ROS 2."
   ]
  },
  {
   "cell_type": "markdown",
   "metadata": {},
   "source": [
    "### 1.1.4 Running ROS\n",
    "\n",
    "ROS is mainly developed for Unix-based platforms, namely Ubuntu Linux. As such, we will be utilizing Docker as a convenient method for accessing ROS as a prebuilt image for this course.\n",
    "\n",
    "**Docker** is a platform that simplifies the process of building, running, sharing, and managing applications in isolated environments called containers. Containers package an application's code, libraries, and dependencies into a single object, ensuring the application runs quickly and reliably in different computing environments.\n",
    "\n",
    "A **Dockerfile** is a text document that contains all the commands a user could call on the command line to assemble an image. Using docker build, we can create an automated build that executes several command-line instructions in succession. This file simplifies the process of creating Docker images, allowing us to specify the base image, software packages, environment variables, files, and other components needed for the application to run.\n",
    "\n",
    "**Docker-Compose** is a tool for defining and running multi-container Docker applications. With a single command, we can configure all of our application’s services, networks, and volumes in a docker-compose.yml file, and then start all the services with a single command (docker-compose up). This simplifies the deployment of applications that require multiple interconnected containers, making it easy to manage complex container setups.\n",
    "\n",
    "To start up our Docker containers for ROS, you can right click `docker-compose.yml` in VS Code and select `Compose Up`. (Make sure Docker Desktop is running and you have the Docker extension installed!)"
   ]
  },
  {
   "cell_type": "markdown",
   "metadata": {},
   "source": [
    "---\n",
    "\n",
    "## 1.2. ROS Concepts\n",
    "\n",
    "Three levels of concepts in ROS: the Filesystem level, the Computation Graph level, and the Community level."
   ]
  },
  {
   "cell_type": "markdown",
   "metadata": {},
   "source": [
    "### 1.2.1 ROS Filesystem Level\n",
    "\n",
    "ROS resources that are encountered on disk (file structure)\n",
    "\n",
    "- **Packages**\n",
    "- Repositories\n",
    "- Message (msg) types\n",
    "- Service (srv) types\n",
    "\n",
    "**ROS Packages** are the fundamental building blocks of ROS software. They are organized directories that contain ROS nodes, libraries, datasets, configuration files, and other resources that together provide specific functionalities.\n",
    "\n",
    "Each package can be built, installed, and managed independently, and is designed to be reusable in different projects. Packages enable modular software development, allowing developers to share and integrate code easily.\n",
    "\n",
    "They typically include a package manifest (package.xml), which provides metadata about the package, such as its name, version, dependencies, and maintainer information.\n",
    "\n",
    "We will be utilizing several packages that are built for our specific robot (ABB IRB 120) and simulation environments."
   ]
  },
  {
   "cell_type": "markdown",
   "metadata": {},
   "source": [
    "### 1.2.2 ROS Computation Graph Level\n",
    "\n",
    "The ROS Computation Graph is the network of ROS processes that are communicating with each other at runtime.\n",
    "\n",
    "- **Nodes**\n",
    "- ROS Core (Master)\n",
    "- Parameter Server\n",
    "- **Messages**\n",
    "- **Topics**\n",
    "- **Services**\n",
    "- Bags\n",
    "\n",
    "A **node** is the smallest executable unit of computation. It can be thought of as a single process that performs a specific task. Nodes can communicate with each other by passing messages. A robotic system typically comprises many nodes that control various aspects of the robot's operation, such as sensing, actuation, and decision-making.\n",
    "\n",
    "**Topics** are named buses over which nodes exchange messages. Nodes **publish** messages to topics as well as **subscribe** to topics to receive messages. Messages are data structures that consist of typed fields.\n",
    "\n",
    "<img src=\"./images/Topic-SinglePublisherandSingleSubscriber.gif\" alt=\"ROS Topics\" width=\"600\"/>\n",
    "\n",
    "**Services** are another way nodes can communicate in ROS. Unlike the publish/subscribe model, services allow nodes to send a **request** and receive a **response**.\n",
    "\n",
    "<img src=\"./images/Service-SingleServiceClient.gif\" alt=\"ROS Services\" width=\"600\"/>"
   ]
  },
  {
   "cell_type": "markdown",
   "metadata": {},
   "source": [
    "### 1.2.3 ROS Community Level\n",
    "\n",
    "The ROS Community Level concepts are ROS resources that enable separate communities to exchange software and knowledge.\n",
    "- Distributions\n",
    "- ROS Wiki (http://wiki.ros.org)\n",
    "- ROS Answers (http://answers.ros.org/)\n",
    "- etc."
   ]
  },
  {
   "cell_type": "markdown",
   "metadata": {},
   "source": [
    "---\n",
    "\n",
    "## 1.3. URDF\n",
    "\n",
    "A **URDF** (Unified Robot Description Format) is an XML format used in ROS (Robot Operating System) to describe all elements of a robot model.\n",
    "\n",
    "This includes the physical structure (links and joints) and other aspects such as visual appearance, collision properties, and kinematic dynamics.\n",
    "\n",
    "A URDF file allows ROS to understand how the parts of a robot are connected and how they can move relative to each other. This is crucial for tasks such as simulating the robot in a virtual environment, visualizing its structure, and planning movements.\n",
    "\n",
    "The URDF makes it easier to work with complex robots by providing a standardized way to define and communicate the robot's physical configuration.\n",
    "\n",
    "URDFs can often be rather tedious and complicated to create, so we can use **Xacro** (XML Macros), a ROS utility, to simplify the creation of URDF files. Xacro allows for variables, math expressions, and conditional statements.\n",
    "\n",
    "We can examine the URDF under `src/abb_irb120_support/urdf/irb12_3_60_macro.xacro`."
   ]
  },
  {
   "cell_type": "markdown",
   "metadata": {},
   "source": [
    "---\n",
    "\n",
    "## 1.4. roslibpy\n",
    "\n",
    "Source: https://roslibpy.readthedocs.io/en/latest/\n",
    "\n",
    "\"Python ROS Bridge library allows to use Python and IronPython to interact with ROS, the open-source robotic middleware. It uses WebSockets to connect to rosbridge 2.0 and provides publishing, subscribing, service calls, actionlib, TF, and other essential ROS functionality.\""
   ]
  },
  {
   "cell_type": "markdown",
   "metadata": {},
   "source": [
    "### 1.4.1. Exercise: Connecting to ROS\n",
    "\n",
    "In this exercise, we examine basic roslibpy usage in the file: `scripts\\ros_hello_world.py`"
   ]
  },
  {
   "cell_type": "markdown",
   "metadata": {},
   "source": [
    "### 1.4.2. Exercise: Basic Message Communication\n",
    "\n",
    "In this exercise, we are going to write two nodes, a talker node that publishes messages to a topic, and a listener node that subscribes to that topic.\n",
    "\n",
    "String message definition:\n",
    "http://docs.ros.org/en/noetic/api/std_msgs/html/msg/String.html"
   ]
  },
  {
   "cell_type": "markdown",
   "metadata": {},
   "source": [
    "---\n",
    "\n",
    "## 1.5. MoveIt and Gazebo\n",
    "\n",
    "**MoveIt** is an advanced motion planning framework for ROS that supports manipulation, 3D perception, kinematics, control, and navigation. It is designed to facilitate complex robotic manipulation tasks across a wide variety of robot designs and environments.\n",
    "\n",
    "MoveIt provides tools for developers to integrate motion planning, collision detection, pose estimation, and more into their robotic applications.\n",
    "\n",
    "**Gazebo** is a powerful simulation environment for robotics that integrates with ROS. It offers the ability to accurately and efficiently simulate populations of robots in complex, indoor and outdoor environments.\n",
    "\n",
    "Gazebo can provide realistic rendering of environments, including lighting, shadows, and textures, and it can simulate sensors and actuators with high fidelity. This makes it an invaluable tool for testing and developing robotics algorithms and systems without the need for physical robots, reducing development time and costs.\n",
    "\n",
    "### 1.5.1. Launching MoveIt and Gazebo\n",
    "\n",
    "First, `Compose Up` our Docker containers.\n",
    "\n",
    "Open a terminal (in VS Code) and access our arc380-ros container using:\n",
    "\n",
    "`docker exec -it arc380-ros bash`\n",
    "\n",
    "We are now accessing a bash terminal from inside the Docker container, and can launch Gazebo:\n",
    "\n",
    "`roslaunch abb_irb120_gazebo irb120_gazebo.launch`\n",
    "\n",
    "Open another Docker terminal and launch MoveIt:\n",
    "\n",
    "`roslaunch abb_irb120_moveit_config moveit_planning_execution_gazebo.launch`\n",
    "\n",
    "We can access a browser-based display at http://localhost:8080/vnc.html.\n",
    "\n",
    "### 1.5.2. Available topics and services\n",
    "\n",
    "We can use `rostopic list` and `rosservice list` to list the available topics and services that MoveIt and Gazebo are providing.\n",
    "\n",
    "Use `rostopic info <topic_name>` or `rosservice info <service_name>` to get more details.\n",
    "\n",
    "### 1.5.3. Exercise: Coding a service call in roslibpy\n",
    "\n",
    "In this exercise, we are going to code a service call for an inverse kinematics calculation.\n",
    "\n",
    "GetPostionIK service definition:\n",
    "http://docs.ros.org/en/noetic/api/moveit_msgs/html/srv/GetPositionIK.html"
   ]
  }
 ],
 "metadata": {
  "kernelspec": {
   "display_name": "arc380",
   "language": "python",
   "name": "python3"
  },
  "language_info": {
   "codemirror_mode": {
    "name": "ipython",
    "version": 3
   },
   "file_extension": ".py",
   "mimetype": "text/x-python",
   "name": "python",
   "nbconvert_exporter": "python",
   "pygments_lexer": "ipython3",
   "version": "3.9.18"
  }
 },
 "nbformat": 4,
 "nbformat_minor": 2
}
